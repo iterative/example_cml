{
 "cells": [
  {
   "cell_type": "markdown",
   "id": "86aa92e4",
   "metadata": {
    "id": "86aa92e4"
   },
   "source": [
    "# MLE challenge - Features engineering"
   ]
  },
  {
   "cell_type": "markdown",
   "id": "97797e24",
   "metadata": {
    "id": "97797e24"
   },
   "source": [
    "### Notebook 1"
   ]
  },
  {
   "cell_type": "markdown",
   "id": "8331a455",
   "metadata": {
    "id": "8331a455"
   },
   "source": [
    "In this notebook we compute five features for the **credit risk** dataset. \n",
    "Each row in the dataset consists of the credit that a user took on a given date.\n",
    "\n",
    "These features are roughly defined as follows:\n",
    "\n",
    "**nb_previous_loans:** number of loans granted to a given user, before the current loan.\n",
    "\n",
    "**avg_amount_loans_previous:** average amount of loans granted to a user, before the current rating.\n",
    "\n",
    "**age:** user age in years.\n",
    "\n",
    "**years_on_the_job:** years the user has been in employment.\n",
    "\n",
    "**flag_own_car:** flag that indicates if the user has his own car.\n",
    "\n",
    "We have the following problem: the feature `avg_amount_loans_previous` takes just too long to be computed for all the rows of the dataset (at least the way it's implemented).\n",
    "\n",
    "\n"
   ]
  },
  {
   "cell_type": "code",
   "execution_count": 1,
   "id": "1972e258",
   "metadata": {
    "id": "1972e258"
   },
   "outputs": [],
   "source": [
    "import pandas as pd\n",
    "from pyspark.sql import SparkSession\n",
    "from pyspark.sql import functions as F\n",
    "from pyspark.sql.types import *\n",
    "import time"
   ]
  },
  {
   "cell_type": "code",
   "execution_count": 2,
   "id": "1eaf984f",
   "metadata": {
    "id": "1eaf984f"
   },
   "outputs": [],
   "source": [
    "df = pd.read_csv('data/dataset_credit_risk.csv')"
   ]
  },
  {
   "cell_type": "code",
   "execution_count": 3,
   "id": "91f346ce",
   "metadata": {
    "id": "91f346ce"
   },
   "outputs": [
    {
     "data": {
      "text/plain": [
       "(777715, 24)"
      ]
     },
     "execution_count": 3,
     "metadata": {},
     "output_type": "execute_result"
    }
   ],
   "source": [
    "df.shape"
   ]
  },
  {
   "cell_type": "code",
   "execution_count": 4,
   "id": "65380f2f",
   "metadata": {
    "id": "65380f2f"
   },
   "outputs": [
    {
     "data": {
      "text/html": [
       "<div>\n",
       "<style scoped>\n",
       "    .dataframe tbody tr th:only-of-type {\n",
       "        vertical-align: middle;\n",
       "    }\n",
       "\n",
       "    .dataframe tbody tr th {\n",
       "        vertical-align: top;\n",
       "    }\n",
       "\n",
       "    .dataframe thead th {\n",
       "        text-align: right;\n",
       "    }\n",
       "</style>\n",
       "<table border=\"1\" class=\"dataframe\">\n",
       "  <thead>\n",
       "    <tr style=\"text-align: right;\">\n",
       "      <th></th>\n",
       "      <th>loan_id</th>\n",
       "      <th>id</th>\n",
       "      <th>code_gender</th>\n",
       "      <th>flag_own_car</th>\n",
       "      <th>flag_own_realty</th>\n",
       "      <th>cnt_children</th>\n",
       "      <th>amt_income_total</th>\n",
       "      <th>name_income_type</th>\n",
       "      <th>name_education_type</th>\n",
       "      <th>name_family_status</th>\n",
       "      <th>...</th>\n",
       "      <th>flag_work_phone</th>\n",
       "      <th>flag_phone</th>\n",
       "      <th>flag_email</th>\n",
       "      <th>occupation_type</th>\n",
       "      <th>cnt_fam_members</th>\n",
       "      <th>status</th>\n",
       "      <th>birthday</th>\n",
       "      <th>job_start_date</th>\n",
       "      <th>loan_date</th>\n",
       "      <th>loan_amount</th>\n",
       "    </tr>\n",
       "  </thead>\n",
       "  <tbody>\n",
       "    <tr>\n",
       "      <th>0</th>\n",
       "      <td>208089</td>\n",
       "      <td>5044500</td>\n",
       "      <td>F</td>\n",
       "      <td>N</td>\n",
       "      <td>Y</td>\n",
       "      <td>0</td>\n",
       "      <td>45000.0</td>\n",
       "      <td>Pensioner</td>\n",
       "      <td>Secondary / secondary special</td>\n",
       "      <td>Widow</td>\n",
       "      <td>...</td>\n",
       "      <td>0</td>\n",
       "      <td>0</td>\n",
       "      <td>0</td>\n",
       "      <td>NaN</td>\n",
       "      <td>1.0</td>\n",
       "      <td>0</td>\n",
       "      <td>1955-08-04</td>\n",
       "      <td>3021-09-18</td>\n",
       "      <td>2019-01-01</td>\n",
       "      <td>133.714974</td>\n",
       "    </tr>\n",
       "    <tr>\n",
       "      <th>1</th>\n",
       "      <td>112797</td>\n",
       "      <td>5026631</td>\n",
       "      <td>F</td>\n",
       "      <td>N</td>\n",
       "      <td>Y</td>\n",
       "      <td>0</td>\n",
       "      <td>99000.0</td>\n",
       "      <td>Working</td>\n",
       "      <td>Secondary / secondary special</td>\n",
       "      <td>Separated</td>\n",
       "      <td>...</td>\n",
       "      <td>0</td>\n",
       "      <td>0</td>\n",
       "      <td>0</td>\n",
       "      <td>Medicine staff</td>\n",
       "      <td>1.0</td>\n",
       "      <td>0</td>\n",
       "      <td>1972-03-30</td>\n",
       "      <td>1997-06-05</td>\n",
       "      <td>2019-01-01</td>\n",
       "      <td>158.800558</td>\n",
       "    </tr>\n",
       "    <tr>\n",
       "      <th>2</th>\n",
       "      <td>162434</td>\n",
       "      <td>5036645</td>\n",
       "      <td>M</td>\n",
       "      <td>Y</td>\n",
       "      <td>N</td>\n",
       "      <td>0</td>\n",
       "      <td>202500.0</td>\n",
       "      <td>Working</td>\n",
       "      <td>Incomplete higher</td>\n",
       "      <td>Married</td>\n",
       "      <td>...</td>\n",
       "      <td>0</td>\n",
       "      <td>0</td>\n",
       "      <td>0</td>\n",
       "      <td>Drivers</td>\n",
       "      <td>2.0</td>\n",
       "      <td>0</td>\n",
       "      <td>1987-03-24</td>\n",
       "      <td>2015-02-22</td>\n",
       "      <td>2019-01-01</td>\n",
       "      <td>203.608487</td>\n",
       "    </tr>\n",
       "    <tr>\n",
       "      <th>3</th>\n",
       "      <td>144343</td>\n",
       "      <td>5033584</td>\n",
       "      <td>F</td>\n",
       "      <td>N</td>\n",
       "      <td>Y</td>\n",
       "      <td>0</td>\n",
       "      <td>292500.0</td>\n",
       "      <td>Working</td>\n",
       "      <td>Higher education</td>\n",
       "      <td>Married</td>\n",
       "      <td>...</td>\n",
       "      <td>0</td>\n",
       "      <td>0</td>\n",
       "      <td>0</td>\n",
       "      <td>NaN</td>\n",
       "      <td>2.0</td>\n",
       "      <td>0</td>\n",
       "      <td>1973-03-15</td>\n",
       "      <td>2009-06-29</td>\n",
       "      <td>2019-01-01</td>\n",
       "      <td>113.204964</td>\n",
       "    </tr>\n",
       "    <tr>\n",
       "      <th>4</th>\n",
       "      <td>409695</td>\n",
       "      <td>5085755</td>\n",
       "      <td>F</td>\n",
       "      <td>Y</td>\n",
       "      <td>Y</td>\n",
       "      <td>1</td>\n",
       "      <td>112500.0</td>\n",
       "      <td>Commercial associate</td>\n",
       "      <td>Secondary / secondary special</td>\n",
       "      <td>Civil marriage</td>\n",
       "      <td>...</td>\n",
       "      <td>0</td>\n",
       "      <td>0</td>\n",
       "      <td>0</td>\n",
       "      <td>Core staff</td>\n",
       "      <td>3.0</td>\n",
       "      <td>0</td>\n",
       "      <td>1989-10-15</td>\n",
       "      <td>2019-07-03</td>\n",
       "      <td>2019-01-01</td>\n",
       "      <td>109.376260</td>\n",
       "    </tr>\n",
       "  </tbody>\n",
       "</table>\n",
       "<p>5 rows × 24 columns</p>\n",
       "</div>"
      ],
      "text/plain": [
       "   loan_id       id code_gender flag_own_car flag_own_realty  cnt_children  \\\n",
       "0   208089  5044500           F            N               Y             0   \n",
       "1   112797  5026631           F            N               Y             0   \n",
       "2   162434  5036645           M            Y               N             0   \n",
       "3   144343  5033584           F            N               Y             0   \n",
       "4   409695  5085755           F            Y               Y             1   \n",
       "\n",
       "   amt_income_total      name_income_type            name_education_type  \\\n",
       "0           45000.0             Pensioner  Secondary / secondary special   \n",
       "1           99000.0               Working  Secondary / secondary special   \n",
       "2          202500.0               Working              Incomplete higher   \n",
       "3          292500.0               Working               Higher education   \n",
       "4          112500.0  Commercial associate  Secondary / secondary special   \n",
       "\n",
       "  name_family_status  ... flag_work_phone  flag_phone  flag_email  \\\n",
       "0              Widow  ...               0           0           0   \n",
       "1          Separated  ...               0           0           0   \n",
       "2            Married  ...               0           0           0   \n",
       "3            Married  ...               0           0           0   \n",
       "4     Civil marriage  ...               0           0           0   \n",
       "\n",
       "   occupation_type  cnt_fam_members  status    birthday job_start_date  \\\n",
       "0              NaN              1.0       0  1955-08-04     3021-09-18   \n",
       "1   Medicine staff              1.0       0  1972-03-30     1997-06-05   \n",
       "2          Drivers              2.0       0  1987-03-24     2015-02-22   \n",
       "3              NaN              2.0       0  1973-03-15     2009-06-29   \n",
       "4       Core staff              3.0       0  1989-10-15     2019-07-03   \n",
       "\n",
       "    loan_date  loan_amount  \n",
       "0  2019-01-01   133.714974  \n",
       "1  2019-01-01   158.800558  \n",
       "2  2019-01-01   203.608487  \n",
       "3  2019-01-01   113.204964  \n",
       "4  2019-01-01   109.376260  \n",
       "\n",
       "[5 rows x 24 columns]"
      ]
     },
     "execution_count": 4,
     "metadata": {},
     "output_type": "execute_result"
    }
   ],
   "source": [
    "df.head()"
   ]
  },
  {
   "cell_type": "code",
   "execution_count": 5,
   "id": "355a0331",
   "metadata": {
    "id": "355a0331",
    "scrolled": true
   },
   "outputs": [
    {
     "data": {
      "text/html": [
       "<div>\n",
       "<style scoped>\n",
       "    .dataframe tbody tr th:only-of-type {\n",
       "        vertical-align: middle;\n",
       "    }\n",
       "\n",
       "    .dataframe tbody tr th {\n",
       "        vertical-align: top;\n",
       "    }\n",
       "\n",
       "    .dataframe thead th {\n",
       "        text-align: right;\n",
       "    }\n",
       "</style>\n",
       "<table border=\"1\" class=\"dataframe\">\n",
       "  <thead>\n",
       "    <tr style=\"text-align: right;\">\n",
       "      <th></th>\n",
       "      <th>loan_id</th>\n",
       "      <th>id</th>\n",
       "      <th>code_gender</th>\n",
       "      <th>flag_own_car</th>\n",
       "      <th>flag_own_realty</th>\n",
       "      <th>cnt_children</th>\n",
       "      <th>amt_income_total</th>\n",
       "      <th>name_income_type</th>\n",
       "      <th>name_education_type</th>\n",
       "      <th>name_family_status</th>\n",
       "      <th>...</th>\n",
       "      <th>flag_work_phone</th>\n",
       "      <th>flag_phone</th>\n",
       "      <th>flag_email</th>\n",
       "      <th>occupation_type</th>\n",
       "      <th>cnt_fam_members</th>\n",
       "      <th>status</th>\n",
       "      <th>birthday</th>\n",
       "      <th>job_start_date</th>\n",
       "      <th>loan_date</th>\n",
       "      <th>loan_amount</th>\n",
       "    </tr>\n",
       "  </thead>\n",
       "  <tbody>\n",
       "    <tr>\n",
       "      <th>0</th>\n",
       "      <td>1008</td>\n",
       "      <td>5008804</td>\n",
       "      <td>M</td>\n",
       "      <td>Y</td>\n",
       "      <td>Y</td>\n",
       "      <td>0</td>\n",
       "      <td>427500.0</td>\n",
       "      <td>Working</td>\n",
       "      <td>Higher education</td>\n",
       "      <td>Civil marriage</td>\n",
       "      <td>...</td>\n",
       "      <td>1</td>\n",
       "      <td>0</td>\n",
       "      <td>0</td>\n",
       "      <td>NaN</td>\n",
       "      <td>2.0</td>\n",
       "      <td>0</td>\n",
       "      <td>1988-11-04</td>\n",
       "      <td>2009-04-11</td>\n",
       "      <td>2019-02-01</td>\n",
       "      <td>102.283361</td>\n",
       "    </tr>\n",
       "    <tr>\n",
       "      <th>1</th>\n",
       "      <td>1000</td>\n",
       "      <td>5008804</td>\n",
       "      <td>M</td>\n",
       "      <td>Y</td>\n",
       "      <td>Y</td>\n",
       "      <td>0</td>\n",
       "      <td>427500.0</td>\n",
       "      <td>Working</td>\n",
       "      <td>Higher education</td>\n",
       "      <td>Civil marriage</td>\n",
       "      <td>...</td>\n",
       "      <td>1</td>\n",
       "      <td>0</td>\n",
       "      <td>0</td>\n",
       "      <td>NaN</td>\n",
       "      <td>2.0</td>\n",
       "      <td>0</td>\n",
       "      <td>1988-11-04</td>\n",
       "      <td>2009-04-11</td>\n",
       "      <td>2019-02-15</td>\n",
       "      <td>136.602049</td>\n",
       "    </tr>\n",
       "    <tr>\n",
       "      <th>2</th>\n",
       "      <td>1012</td>\n",
       "      <td>5008804</td>\n",
       "      <td>M</td>\n",
       "      <td>Y</td>\n",
       "      <td>Y</td>\n",
       "      <td>0</td>\n",
       "      <td>427500.0</td>\n",
       "      <td>Working</td>\n",
       "      <td>Higher education</td>\n",
       "      <td>Civil marriage</td>\n",
       "      <td>...</td>\n",
       "      <td>1</td>\n",
       "      <td>0</td>\n",
       "      <td>0</td>\n",
       "      <td>NaN</td>\n",
       "      <td>2.0</td>\n",
       "      <td>0</td>\n",
       "      <td>1988-11-04</td>\n",
       "      <td>2009-04-11</td>\n",
       "      <td>2019-02-17</td>\n",
       "      <td>114.733694</td>\n",
       "    </tr>\n",
       "    <tr>\n",
       "      <th>3</th>\n",
       "      <td>1011</td>\n",
       "      <td>5008804</td>\n",
       "      <td>M</td>\n",
       "      <td>Y</td>\n",
       "      <td>Y</td>\n",
       "      <td>0</td>\n",
       "      <td>427500.0</td>\n",
       "      <td>Working</td>\n",
       "      <td>Higher education</td>\n",
       "      <td>Civil marriage</td>\n",
       "      <td>...</td>\n",
       "      <td>1</td>\n",
       "      <td>0</td>\n",
       "      <td>0</td>\n",
       "      <td>NaN</td>\n",
       "      <td>2.0</td>\n",
       "      <td>0</td>\n",
       "      <td>1988-11-04</td>\n",
       "      <td>2009-04-11</td>\n",
       "      <td>2019-05-20</td>\n",
       "      <td>103.539050</td>\n",
       "    </tr>\n",
       "    <tr>\n",
       "      <th>4</th>\n",
       "      <td>1003</td>\n",
       "      <td>5008804</td>\n",
       "      <td>M</td>\n",
       "      <td>Y</td>\n",
       "      <td>Y</td>\n",
       "      <td>0</td>\n",
       "      <td>427500.0</td>\n",
       "      <td>Working</td>\n",
       "      <td>Higher education</td>\n",
       "      <td>Civil marriage</td>\n",
       "      <td>...</td>\n",
       "      <td>1</td>\n",
       "      <td>0</td>\n",
       "      <td>0</td>\n",
       "      <td>NaN</td>\n",
       "      <td>2.0</td>\n",
       "      <td>0</td>\n",
       "      <td>1988-11-04</td>\n",
       "      <td>2009-04-11</td>\n",
       "      <td>2019-07-05</td>\n",
       "      <td>112.948147</td>\n",
       "    </tr>\n",
       "    <tr>\n",
       "      <th>...</th>\n",
       "      <td>...</td>\n",
       "      <td>...</td>\n",
       "      <td>...</td>\n",
       "      <td>...</td>\n",
       "      <td>...</td>\n",
       "      <td>...</td>\n",
       "      <td>...</td>\n",
       "      <td>...</td>\n",
       "      <td>...</td>\n",
       "      <td>...</td>\n",
       "      <td>...</td>\n",
       "      <td>...</td>\n",
       "      <td>...</td>\n",
       "      <td>...</td>\n",
       "      <td>...</td>\n",
       "      <td>...</td>\n",
       "      <td>...</td>\n",
       "      <td>...</td>\n",
       "      <td>...</td>\n",
       "      <td>...</td>\n",
       "      <td>...</td>\n",
       "    </tr>\n",
       "    <tr>\n",
       "      <th>777710</th>\n",
       "      <td>172506</td>\n",
       "      <td>5150487</td>\n",
       "      <td>M</td>\n",
       "      <td>Y</td>\n",
       "      <td>N</td>\n",
       "      <td>0</td>\n",
       "      <td>202500.0</td>\n",
       "      <td>Working</td>\n",
       "      <td>Secondary / secondary special</td>\n",
       "      <td>Married</td>\n",
       "      <td>...</td>\n",
       "      <td>0</td>\n",
       "      <td>0</td>\n",
       "      <td>0</td>\n",
       "      <td>Drivers</td>\n",
       "      <td>2.0</td>\n",
       "      <td>0</td>\n",
       "      <td>1968-08-08</td>\n",
       "      <td>2015-10-13</td>\n",
       "      <td>2020-09-10</td>\n",
       "      <td>117.792205</td>\n",
       "    </tr>\n",
       "    <tr>\n",
       "      <th>777711</th>\n",
       "      <td>172513</td>\n",
       "      <td>5150487</td>\n",
       "      <td>M</td>\n",
       "      <td>Y</td>\n",
       "      <td>N</td>\n",
       "      <td>0</td>\n",
       "      <td>202500.0</td>\n",
       "      <td>Working</td>\n",
       "      <td>Secondary / secondary special</td>\n",
       "      <td>Married</td>\n",
       "      <td>...</td>\n",
       "      <td>0</td>\n",
       "      <td>0</td>\n",
       "      <td>0</td>\n",
       "      <td>Drivers</td>\n",
       "      <td>2.0</td>\n",
       "      <td>0</td>\n",
       "      <td>1968-08-08</td>\n",
       "      <td>2015-10-13</td>\n",
       "      <td>2020-10-13</td>\n",
       "      <td>105.778335</td>\n",
       "    </tr>\n",
       "    <tr>\n",
       "      <th>777712</th>\n",
       "      <td>172512</td>\n",
       "      <td>5150487</td>\n",
       "      <td>M</td>\n",
       "      <td>Y</td>\n",
       "      <td>N</td>\n",
       "      <td>0</td>\n",
       "      <td>202500.0</td>\n",
       "      <td>Working</td>\n",
       "      <td>Secondary / secondary special</td>\n",
       "      <td>Married</td>\n",
       "      <td>...</td>\n",
       "      <td>0</td>\n",
       "      <td>0</td>\n",
       "      <td>0</td>\n",
       "      <td>Drivers</td>\n",
       "      <td>2.0</td>\n",
       "      <td>0</td>\n",
       "      <td>1968-08-08</td>\n",
       "      <td>2015-10-13</td>\n",
       "      <td>2020-10-16</td>\n",
       "      <td>112.319242</td>\n",
       "    </tr>\n",
       "    <tr>\n",
       "      <th>777713</th>\n",
       "      <td>172500</td>\n",
       "      <td>5150487</td>\n",
       "      <td>M</td>\n",
       "      <td>Y</td>\n",
       "      <td>N</td>\n",
       "      <td>0</td>\n",
       "      <td>202500.0</td>\n",
       "      <td>Working</td>\n",
       "      <td>Secondary / secondary special</td>\n",
       "      <td>Married</td>\n",
       "      <td>...</td>\n",
       "      <td>0</td>\n",
       "      <td>0</td>\n",
       "      <td>0</td>\n",
       "      <td>Drivers</td>\n",
       "      <td>2.0</td>\n",
       "      <td>0</td>\n",
       "      <td>1968-08-08</td>\n",
       "      <td>2015-10-13</td>\n",
       "      <td>2020-11-25</td>\n",
       "      <td>113.627617</td>\n",
       "    </tr>\n",
       "    <tr>\n",
       "      <th>777714</th>\n",
       "      <td>172496</td>\n",
       "      <td>5150487</td>\n",
       "      <td>M</td>\n",
       "      <td>Y</td>\n",
       "      <td>N</td>\n",
       "      <td>0</td>\n",
       "      <td>202500.0</td>\n",
       "      <td>Working</td>\n",
       "      <td>Secondary / secondary special</td>\n",
       "      <td>Married</td>\n",
       "      <td>...</td>\n",
       "      <td>0</td>\n",
       "      <td>0</td>\n",
       "      <td>0</td>\n",
       "      <td>Drivers</td>\n",
       "      <td>2.0</td>\n",
       "      <td>0</td>\n",
       "      <td>1968-08-08</td>\n",
       "      <td>2015-10-13</td>\n",
       "      <td>2020-12-04</td>\n",
       "      <td>107.346823</td>\n",
       "    </tr>\n",
       "  </tbody>\n",
       "</table>\n",
       "<p>777715 rows × 24 columns</p>\n",
       "</div>"
      ],
      "text/plain": [
       "        loan_id       id code_gender flag_own_car flag_own_realty  \\\n",
       "0          1008  5008804           M            Y               Y   \n",
       "1          1000  5008804           M            Y               Y   \n",
       "2          1012  5008804           M            Y               Y   \n",
       "3          1011  5008804           M            Y               Y   \n",
       "4          1003  5008804           M            Y               Y   \n",
       "...         ...      ...         ...          ...             ...   \n",
       "777710   172506  5150487           M            Y               N   \n",
       "777711   172513  5150487           M            Y               N   \n",
       "777712   172512  5150487           M            Y               N   \n",
       "777713   172500  5150487           M            Y               N   \n",
       "777714   172496  5150487           M            Y               N   \n",
       "\n",
       "        cnt_children  amt_income_total name_income_type  \\\n",
       "0                  0          427500.0          Working   \n",
       "1                  0          427500.0          Working   \n",
       "2                  0          427500.0          Working   \n",
       "3                  0          427500.0          Working   \n",
       "4                  0          427500.0          Working   \n",
       "...              ...               ...              ...   \n",
       "777710             0          202500.0          Working   \n",
       "777711             0          202500.0          Working   \n",
       "777712             0          202500.0          Working   \n",
       "777713             0          202500.0          Working   \n",
       "777714             0          202500.0          Working   \n",
       "\n",
       "                  name_education_type name_family_status  ... flag_work_phone  \\\n",
       "0                    Higher education     Civil marriage  ...               1   \n",
       "1                    Higher education     Civil marriage  ...               1   \n",
       "2                    Higher education     Civil marriage  ...               1   \n",
       "3                    Higher education     Civil marriage  ...               1   \n",
       "4                    Higher education     Civil marriage  ...               1   \n",
       "...                               ...                ...  ...             ...   \n",
       "777710  Secondary / secondary special            Married  ...               0   \n",
       "777711  Secondary / secondary special            Married  ...               0   \n",
       "777712  Secondary / secondary special            Married  ...               0   \n",
       "777713  Secondary / secondary special            Married  ...               0   \n",
       "777714  Secondary / secondary special            Married  ...               0   \n",
       "\n",
       "        flag_phone  flag_email  occupation_type  cnt_fam_members  status  \\\n",
       "0                0           0              NaN              2.0       0   \n",
       "1                0           0              NaN              2.0       0   \n",
       "2                0           0              NaN              2.0       0   \n",
       "3                0           0              NaN              2.0       0   \n",
       "4                0           0              NaN              2.0       0   \n",
       "...            ...         ...              ...              ...     ...   \n",
       "777710           0           0          Drivers              2.0       0   \n",
       "777711           0           0          Drivers              2.0       0   \n",
       "777712           0           0          Drivers              2.0       0   \n",
       "777713           0           0          Drivers              2.0       0   \n",
       "777714           0           0          Drivers              2.0       0   \n",
       "\n",
       "          birthday job_start_date  loan_date  loan_amount  \n",
       "0       1988-11-04     2009-04-11 2019-02-01   102.283361  \n",
       "1       1988-11-04     2009-04-11 2019-02-15   136.602049  \n",
       "2       1988-11-04     2009-04-11 2019-02-17   114.733694  \n",
       "3       1988-11-04     2009-04-11 2019-05-20   103.539050  \n",
       "4       1988-11-04     2009-04-11 2019-07-05   112.948147  \n",
       "...            ...            ...        ...          ...  \n",
       "777710  1968-08-08     2015-10-13 2020-09-10   117.792205  \n",
       "777711  1968-08-08     2015-10-13 2020-10-13   105.778335  \n",
       "777712  1968-08-08     2015-10-13 2020-10-16   112.319242  \n",
       "777713  1968-08-08     2015-10-13 2020-11-25   113.627617  \n",
       "777714  1968-08-08     2015-10-13 2020-12-04   107.346823  \n",
       "\n",
       "[777715 rows x 24 columns]"
      ]
     },
     "execution_count": 5,
     "metadata": {},
     "output_type": "execute_result"
    }
   ],
   "source": [
    "df = df.sort_values(by=[\"id\", \"loan_date\"])\n",
    "df = df.reset_index(drop=True)\n",
    "df[\"loan_date\"] = pd.to_datetime(df.loan_date)\n",
    "df"
   ]
  },
  {
   "cell_type": "markdown",
   "id": "4e25b5cd",
   "metadata": {
    "id": "4e25b5cd"
   },
   "source": [
    "#### Feature nb_previous_loans"
   ]
  },
  {
   "cell_type": "code",
   "execution_count": 6,
   "id": "a52083be",
   "metadata": {
    "id": "a52083be"
   },
   "outputs": [],
   "source": [
    "df_grouped = df.groupby(\"id\")\n",
    "df[\"nb_previous_loans\"] = df_grouped[\"loan_date\"].rank(method=\"first\") - 1"
   ]
  },
  {
   "cell_type": "markdown",
   "id": "be778c3a",
   "metadata": {
    "id": "be778c3a"
   },
   "source": [
    "#### Feature avg_amount_loans_previous"
   ]
  },
  {
   "cell_type": "markdown",
   "id": "96c96ecd-0bef-4683-9bd1-178f39cabb24",
   "metadata": {},
   "source": [
    "#### Método propuesto:"
   ]
  },
  {
   "cell_type": "markdown",
   "id": "5171afd4-d5af-4886-b2a4-8c5886b11904",
   "metadata": {},
   "source": [
    "#### En el cálculo de la columna avg_amount_loans_previous simplifico el cómputo sistituyendo la función avg_amount_loans_prev() por un rolling de pandas. El método rolling de pandas te permite calcular la media de forma móvil para una ventana de datos, donde cada ventana contienen justo los datos crediticios para cada id. El tiempo aproximado de cómputo original es del orden O(UxI) donde U es la cardinalidad de los únicos Id e I es la cardinalidad de los índices para cada Id, de allí que, el tiempo aproximado de cómputo para la nueva versión es sólo del orden O(U) considerando que para ambos casos al cómputo de la media es O(1). Este ejercico es muy interesante, acá se puede probar con un groupby que contenga el rolling y además paralelizando el ciclo for con joblib, pero debemos tener cuidado que algunas veces el costos computacional de estas operaciones pueden relentizar el cáculo de la media."
   ]
  },
  {
   "cell_type": "code",
   "execution_count": 7,
   "id": "e96b2822-0112-4461-823d-cbf68b9e8487",
   "metadata": {},
   "outputs": [
    {
     "name": "stderr",
     "output_type": "stream",
     "text": [
      "/opt/conda/envs/airflow/lib/python3.7/site-packages/ipykernel_launcher.py:2: DeprecationWarning: The default dtype for empty Series will be 'object' instead of 'float64' in a future version. Specify a dtype explicitly to silence this warning.\n",
      "  \n"
     ]
    },
    {
     "name": "stdout",
     "output_type": "stream",
     "text": [
      "--- 152.88485550880432 seconds ---\n"
     ]
    }
   ],
   "source": [
    "start = time.time()\n",
    "avg_amount_loans_previous = pd.Series()\n",
    "for user in df.id.unique():\n",
    "    df_user = df.loc[df.id == user, :]\n",
    "    avg_amount_loans_previous = avg_amount_loans_previous.append(df_user[\"loan_amount\"].rolling(df_user.shape[0], min_periods=1).mean().shift(periods=1))\n",
    "df[\"avg_amount_loans_previous\"] = avg_amount_loans_previous\n",
    "end = time.time()\n",
    "print(\"--- %s seconds ---\" % (end - start))"
   ]
  },
  {
   "cell_type": "markdown",
   "id": "6394e79f-579a-4430-b05b-c32743af20b5",
   "metadata": {},
   "source": [
    "#### Tiempo de ejecución del método propuesto: 152.88485550880432 segundos para todo el set de datos."
   ]
  },
  {
   "cell_type": "markdown",
   "id": "dd7e73e6-fbcf-43b2-b5cc-57867e641d9f",
   "metadata": {},
   "source": [
    "#### Método actual:"
   ]
  },
  {
   "cell_type": "code",
   "execution_count": 8,
   "id": "87a14b65",
   "metadata": {
    "id": "87a14b65"
   },
   "outputs": [],
   "source": [
    "def avg_amount_loans_prev(df):\n",
    "    avg = pd.Series(index=df.index)\n",
    "    for i in df.index:\n",
    "        df_aux = df.loc[df.loan_date < df.loan_date.loc[i], :]\n",
    "        avg.at[i] = df_aux.loan_amount.mean()\n",
    "    return avg"
   ]
  },
  {
   "cell_type": "code",
   "execution_count": 9,
   "id": "003c708c",
   "metadata": {
    "id": "003c708c"
   },
   "outputs": [
    {
     "name": "stderr",
     "output_type": "stream",
     "text": [
      "/opt/conda/envs/airflow/lib/python3.7/site-packages/ipykernel_launcher.py:2: DeprecationWarning: The default dtype for empty Series will be 'object' instead of 'float64' in a future version. Specify a dtype explicitly to silence this warning.\n",
      "  \n"
     ]
    },
    {
     "name": "stdout",
     "output_type": "stream",
     "text": [
      "--- 820.6095194816589 seconds ---\n"
     ]
    }
   ],
   "source": [
    "start = time.time()\n",
    "avg_amount_loans_previous = pd.Series()\n",
    "# the following cycle is the one that takes forever if we try to compute it for the whole dataset\n",
    "for user in df.id.unique():\n",
    "    df_user = df.loc[df.id == user, :]\n",
    "    avg_amount_loans_previous = avg_amount_loans_previous.append(avg_amount_loans_prev(df_user))\n",
    "end = time.time()\n",
    "print(\"--- %s seconds ---\" % (end - start))"
   ]
  },
  {
   "cell_type": "markdown",
   "id": "06e9ee33-f940-436e-ba2a-e91635d240f8",
   "metadata": {},
   "source": [
    "#### Tiempo de ejecución del método actual: 820.6095194816589 segundos para todo el set de datos. Aproximadamente 6 veces más lento que enfoque propuesto."
   ]
  },
  {
   "cell_type": "code",
   "execution_count": 10,
   "id": "9657a8ff",
   "metadata": {
    "id": "9657a8ff"
   },
   "outputs": [],
   "source": [
    "df[\"avg_amount_loans_previous\"] = avg_amount_loans_previous"
   ]
  },
  {
   "cell_type": "markdown",
   "id": "e2e743fb",
   "metadata": {
    "id": "e2e743fb"
   },
   "source": [
    "#### Feature age"
   ]
  },
  {
   "cell_type": "code",
   "execution_count": 8,
   "id": "a6433fee",
   "metadata": {
    "id": "a6433fee"
   },
   "outputs": [],
   "source": [
    "from datetime import datetime, date"
   ]
  },
  {
   "cell_type": "code",
   "execution_count": 9,
   "id": "2d5ee386",
   "metadata": {
    "id": "2d5ee386"
   },
   "outputs": [],
   "source": [
    "df['birthday'] = pd.to_datetime(df['birthday'], errors='coerce')"
   ]
  },
  {
   "cell_type": "code",
   "execution_count": 10,
   "id": "4a2628da",
   "metadata": {
    "id": "4a2628da",
    "scrolled": true
   },
   "outputs": [],
   "source": [
    "df['age'] = (pd.to_datetime('today').normalize() - df['birthday']).dt.days // 365"
   ]
  },
  {
   "cell_type": "markdown",
   "id": "b358b9e1",
   "metadata": {
    "id": "b358b9e1"
   },
   "source": [
    "#### Feature years_on_the_job"
   ]
  },
  {
   "cell_type": "code",
   "execution_count": 11,
   "id": "c655109b",
   "metadata": {
    "id": "c655109b"
   },
   "outputs": [],
   "source": [
    "df['job_start_date'] = pd.to_datetime(df['job_start_date'], errors='coerce')"
   ]
  },
  {
   "cell_type": "code",
   "execution_count": 12,
   "id": "a04d6133",
   "metadata": {
    "id": "a04d6133"
   },
   "outputs": [],
   "source": [
    "df['years_on_the_job'] = (pd.to_datetime('today').normalize() - df['job_start_date']).dt.days // 365"
   ]
  },
  {
   "cell_type": "markdown",
   "id": "e058043b",
   "metadata": {
    "id": "e058043b"
   },
   "source": [
    "#### Feature flag_own_car"
   ]
  },
  {
   "cell_type": "code",
   "execution_count": 13,
   "id": "8469bffe",
   "metadata": {
    "id": "8469bffe"
   },
   "outputs": [],
   "source": [
    "df['flag_own_car'] = df.flag_own_car.apply(lambda x : 0 if x == 'N' else 1)"
   ]
  },
  {
   "cell_type": "markdown",
   "id": "cb56d501-87da-464d-b82b-e46ced6976a2",
   "metadata": {},
   "source": [
    "#### En esta celda obtengo el schema del dataframe de pandas para el riesgo crediticio."
   ]
  },
  {
   "cell_type": "code",
   "execution_count": 14,
   "id": "84295685-4414-4315-9b11-4b2dcf8ea125",
   "metadata": {},
   "outputs": [
    {
     "name": "stdout",
     "output_type": "stream",
     "text": [
      "<class 'pandas.core.frame.DataFrame'>\n",
      "RangeIndex: 777715 entries, 0 to 777714\n",
      "Data columns (total 28 columns):\n",
      " #   Column                     Non-Null Count   Dtype         \n",
      "---  ------                     --------------   -----         \n",
      " 0   loan_id                    777715 non-null  int64         \n",
      " 1   id                         777715 non-null  int64         \n",
      " 2   code_gender                777715 non-null  object        \n",
      " 3   flag_own_car               777715 non-null  int64         \n",
      " 4   flag_own_realty            777715 non-null  object        \n",
      " 5   cnt_children               777715 non-null  int64         \n",
      " 6   amt_income_total           777715 non-null  float64       \n",
      " 7   name_income_type           777715 non-null  object        \n",
      " 8   name_education_type        777715 non-null  object        \n",
      " 9   name_family_status         777715 non-null  object        \n",
      " 10  name_housing_type          777715 non-null  object        \n",
      " 11  days_birth                 777715 non-null  int64         \n",
      " 12  days_employed              777715 non-null  int64         \n",
      " 13  flag_mobil                 777715 non-null  int64         \n",
      " 14  flag_work_phone            777715 non-null  int64         \n",
      " 15  flag_phone                 777715 non-null  int64         \n",
      " 16  flag_email                 777715 non-null  int64         \n",
      " 17  occupation_type            537667 non-null  object        \n",
      " 18  cnt_fam_members            777715 non-null  float64       \n",
      " 19  status                     777715 non-null  int64         \n",
      " 20  birthday                   777715 non-null  datetime64[ns]\n",
      " 21  job_start_date             649743 non-null  datetime64[ns]\n",
      " 22  loan_date                  777715 non-null  datetime64[ns]\n",
      " 23  loan_amount                777715 non-null  float64       \n",
      " 24  nb_previous_loans          777715 non-null  float64       \n",
      " 25  avg_amount_loans_previous  741258 non-null  float64       \n",
      " 26  age                        777715 non-null  int64         \n",
      " 27  years_on_the_job           649743 non-null  float64       \n",
      "dtypes: datetime64[ns](3), float64(6), int64(12), object(7)\n",
      "memory usage: 166.1+ MB\n"
     ]
    }
   ],
   "source": [
    "df.info()"
   ]
  },
  {
   "cell_type": "markdown",
   "id": "8c95233b-4d77-49b3-96f9-20c0fdd52016",
   "metadata": {},
   "source": [
    "#### En esta parte de la notebook construiré un dataframe de spark, su esquema análogo a la de pandas y guardo este dataframe en un archivo parquet. Es probable que lo use más adelante. Cuando uso spark, prefiero usar archivos en formato parquet porque están diseñados para operaciones de Big Data con una alta compresión, operaciones de E/S pequeñas y almacenamiento columnar."
   ]
  },
  {
   "cell_type": "code",
   "execution_count": 15,
   "id": "6f7f279f-fd01-4c0f-8915-e6fe93901415",
   "metadata": {},
   "outputs": [],
   "source": [
    "import sys\n",
    "sys.path.append('/home')\n",
    "from aimodels.universal_function import *"
   ]
  },
  {
   "cell_type": "code",
   "execution_count": 16,
   "id": "b030c087-e2cb-4a34-8db6-d8ae8949981f",
   "metadata": {},
   "outputs": [],
   "source": [
    "path = \"wasbs://data@stg0ia0prod0001.blob.core.windows.net/data_spark/\""
   ]
  },
  {
   "cell_type": "code",
   "execution_count": 17,
   "id": "02214294-11d9-40d6-963a-1dd06c4a7b1f",
   "metadata": {},
   "outputs": [],
   "source": [
    "spark = spark_init(name = \"Test\")"
   ]
  },
  {
   "cell_type": "markdown",
   "id": "c8d7d9af-8337-49ee-b3f5-53a89764fad5",
   "metadata": {},
   "source": [
    "#### Schema del acrivo parquet para todas las features"
   ]
  },
  {
   "cell_type": "code",
   "execution_count": 18,
   "id": "c74517a4-6573-4bad-9141-455a9b3a57b4",
   "metadata": {},
   "outputs": [],
   "source": [
    "schema = StructType([\n",
    "    StructField(\"loan_id\", IntegerType()),\n",
    "    StructField(\"id\", IntegerType()),\n",
    "    StructField(\"code_gender\", StringType()),\n",
    "    StructField(\"flag_own_car\", StringType()),\n",
    "    StructField(\"flag_own_realty\", StringType()),\n",
    "    StructField(\"cnt_children\", IntegerType()),\n",
    "    StructField(\"amt_income_total\", FloatType()),\n",
    "    StructField(\"name_income_type\", StringType()),\n",
    "    StructField(\"name_education_type\", StringType()),\n",
    "    StructField(\"name_family_status\", StringType()),\n",
    "    StructField(\"name_housing_type\", StringType()),\n",
    "    StructField(\"days_birth\", IntegerType()),\n",
    "    StructField(\"days_employed\", IntegerType()),\n",
    "    StructField(\"flag_mobil\", IntegerType()),\n",
    "    StructField(\"flag_work_phone\", IntegerType()),\n",
    "    StructField(\"flag_phone\", IntegerType()),\n",
    "    StructField(\"flag_email\", IntegerType()),\n",
    "    StructField(\"occupation_type\", StringType()),\n",
    "    StructField(\"cnt_fam_members\", FloatType()),\n",
    "    StructField(\"status\", IntegerType()),\n",
    "    StructField(\"birthday\", StringType()),\n",
    "    StructField(\"job_start_date\", StringType()),\n",
    "    StructField(\"loan_date\", StringType()),\n",
    "    StructField(\"loan_amount\", FloatType()),\n",
    "    StructField(\"nb_previous_loans\", FloatType()),\n",
    "    StructField(\"avg_amount_loans_previous\", FloatType()),\n",
    "    StructField(\"age\", IntegerType()),\n",
    "    StructField(\"years_on_the_job\", FloatType())\n",
    "])"
   ]
  },
  {
   "cell_type": "code",
   "execution_count": 21,
   "id": "5e30c375-2e53-48ba-a52c-e7a8f4edae1c",
   "metadata": {},
   "outputs": [],
   "source": [
    "sdf = spark.createDataFrame(df,schema)"
   ]
  },
  {
   "cell_type": "code",
   "execution_count": 22,
   "id": "6a5584e9-60c8-4739-bd72-2fd37e2c1be8",
   "metadata": {},
   "outputs": [
    {
     "name": "stdout",
     "output_type": "stream",
     "text": [
      "root\n",
      " |-- loan_id: integer (nullable = true)\n",
      " |-- id: integer (nullable = true)\n",
      " |-- code_gender: string (nullable = true)\n",
      " |-- flag_own_car: string (nullable = true)\n",
      " |-- flag_own_realty: string (nullable = true)\n",
      " |-- cnt_children: integer (nullable = true)\n",
      " |-- amt_income_total: float (nullable = true)\n",
      " |-- name_income_type: string (nullable = true)\n",
      " |-- name_education_type: string (nullable = true)\n",
      " |-- name_family_status: string (nullable = true)\n",
      " |-- name_housing_type: string (nullable = true)\n",
      " |-- days_birth: integer (nullable = true)\n",
      " |-- days_employed: integer (nullable = true)\n",
      " |-- flag_mobil: integer (nullable = true)\n",
      " |-- flag_work_phone: integer (nullable = true)\n",
      " |-- flag_phone: integer (nullable = true)\n",
      " |-- flag_email: integer (nullable = true)\n",
      " |-- occupation_type: string (nullable = true)\n",
      " |-- cnt_fam_members: float (nullable = true)\n",
      " |-- status: integer (nullable = true)\n",
      " |-- birthday: string (nullable = true)\n",
      " |-- job_start_date: string (nullable = true)\n",
      " |-- loan_date: string (nullable = true)\n",
      " |-- loan_amount: float (nullable = true)\n",
      " |-- nb_previous_loans: float (nullable = true)\n",
      " |-- avg_amount_loans_previous: float (nullable = true)\n",
      " |-- age: integer (nullable = true)\n",
      " |-- years_on_the_job: float (nullable = true)\n",
      "\n"
     ]
    }
   ],
   "source": [
    "sdf.printSchema()"
   ]
  },
  {
   "cell_type": "markdown",
   "id": "e7c6160f-dc98-46e9-a8ef-4c997c7a7b4e",
   "metadata": {},
   "source": [
    "#### Archivo en formato parquet"
   ]
  },
  {
   "cell_type": "code",
   "execution_count": 23,
   "id": "00f92d69-b832-47bc-8dae-e0c1c7723aff",
   "metadata": {},
   "outputs": [],
   "source": [
    "sdf.write.format(\"parquet\").mode(\"overwrite\").save(path)"
   ]
  },
  {
   "cell_type": "markdown",
   "id": "6213c289",
   "metadata": {
    "id": "6213c289"
   },
   "source": [
    "## Save dataset for model training"
   ]
  },
  {
   "cell_type": "code",
   "execution_count": 24,
   "id": "1f4d8b46",
   "metadata": {
    "id": "1f4d8b46"
   },
   "outputs": [],
   "source": [
    "df = df[['id', 'age', 'years_on_the_job', 'nb_previous_loans', 'avg_amount_loans_previous', 'flag_own_car', 'status']]"
   ]
  },
  {
   "cell_type": "code",
   "execution_count": 27,
   "id": "46a14cc8",
   "metadata": {
    "id": "46a14cc8"
   },
   "outputs": [],
   "source": [
    "df.to_csv('data/train_model.csv', index=False)"
   ]
  },
  {
   "cell_type": "markdown",
   "id": "c6392b35-ad98-4471-a253-a861becb3491",
   "metadata": {},
   "source": [
    "#### Acá una muestra:"
   ]
  },
  {
   "cell_type": "code",
   "execution_count": 28,
   "id": "5b7c74e1-3cb7-4311-9774-2c8aa0cd2b05",
   "metadata": {},
   "outputs": [
    {
     "data": {
      "text/html": [
       "<div>\n",
       "<style scoped>\n",
       "    .dataframe tbody tr th:only-of-type {\n",
       "        vertical-align: middle;\n",
       "    }\n",
       "\n",
       "    .dataframe tbody tr th {\n",
       "        vertical-align: top;\n",
       "    }\n",
       "\n",
       "    .dataframe thead th {\n",
       "        text-align: right;\n",
       "    }\n",
       "</style>\n",
       "<table border=\"1\" class=\"dataframe\">\n",
       "  <thead>\n",
       "    <tr style=\"text-align: right;\">\n",
       "      <th></th>\n",
       "      <th>id</th>\n",
       "      <th>age</th>\n",
       "      <th>years_on_the_job</th>\n",
       "      <th>nb_previous_loans</th>\n",
       "      <th>avg_amount_loans_previous</th>\n",
       "      <th>flag_own_car</th>\n",
       "      <th>status</th>\n",
       "    </tr>\n",
       "  </thead>\n",
       "  <tbody>\n",
       "    <tr>\n",
       "      <th>0</th>\n",
       "      <td>5008804</td>\n",
       "      <td>33</td>\n",
       "      <td>12.0</td>\n",
       "      <td>0.0</td>\n",
       "      <td>NaN</td>\n",
       "      <td>1</td>\n",
       "      <td>0</td>\n",
       "    </tr>\n",
       "    <tr>\n",
       "      <th>1</th>\n",
       "      <td>5008804</td>\n",
       "      <td>33</td>\n",
       "      <td>12.0</td>\n",
       "      <td>1.0</td>\n",
       "      <td>102.283361</td>\n",
       "      <td>1</td>\n",
       "      <td>0</td>\n",
       "    </tr>\n",
       "    <tr>\n",
       "      <th>2</th>\n",
       "      <td>5008804</td>\n",
       "      <td>33</td>\n",
       "      <td>12.0</td>\n",
       "      <td>2.0</td>\n",
       "      <td>119.442705</td>\n",
       "      <td>1</td>\n",
       "      <td>0</td>\n",
       "    </tr>\n",
       "    <tr>\n",
       "      <th>3</th>\n",
       "      <td>5008804</td>\n",
       "      <td>33</td>\n",
       "      <td>12.0</td>\n",
       "      <td>3.0</td>\n",
       "      <td>117.873035</td>\n",
       "      <td>1</td>\n",
       "      <td>0</td>\n",
       "    </tr>\n",
       "    <tr>\n",
       "      <th>4</th>\n",
       "      <td>5008804</td>\n",
       "      <td>33</td>\n",
       "      <td>12.0</td>\n",
       "      <td>4.0</td>\n",
       "      <td>114.289538</td>\n",
       "      <td>1</td>\n",
       "      <td>0</td>\n",
       "    </tr>\n",
       "    <tr>\n",
       "      <th>5</th>\n",
       "      <td>5008804</td>\n",
       "      <td>33</td>\n",
       "      <td>12.0</td>\n",
       "      <td>5.0</td>\n",
       "      <td>114.021260</td>\n",
       "      <td>1</td>\n",
       "      <td>0</td>\n",
       "    </tr>\n",
       "    <tr>\n",
       "      <th>6</th>\n",
       "      <td>5008804</td>\n",
       "      <td>33</td>\n",
       "      <td>12.0</td>\n",
       "      <td>6.0</td>\n",
       "      <td>116.291398</td>\n",
       "      <td>1</td>\n",
       "      <td>0</td>\n",
       "    </tr>\n",
       "    <tr>\n",
       "      <th>7</th>\n",
       "      <td>5008804</td>\n",
       "      <td>33</td>\n",
       "      <td>12.0</td>\n",
       "      <td>7.0</td>\n",
       "      <td>114.677626</td>\n",
       "      <td>1</td>\n",
       "      <td>0</td>\n",
       "    </tr>\n",
       "    <tr>\n",
       "      <th>8</th>\n",
       "      <td>5008804</td>\n",
       "      <td>33</td>\n",
       "      <td>12.0</td>\n",
       "      <td>8.0</td>\n",
       "      <td>122.594931</td>\n",
       "      <td>1</td>\n",
       "      <td>0</td>\n",
       "    </tr>\n",
       "    <tr>\n",
       "      <th>9</th>\n",
       "      <td>5008804</td>\n",
       "      <td>33</td>\n",
       "      <td>12.0</td>\n",
       "      <td>9.0</td>\n",
       "      <td>127.885915</td>\n",
       "      <td>1</td>\n",
       "      <td>0</td>\n",
       "    </tr>\n",
       "    <tr>\n",
       "      <th>10</th>\n",
       "      <td>5008804</td>\n",
       "      <td>33</td>\n",
       "      <td>12.0</td>\n",
       "      <td>10.0</td>\n",
       "      <td>126.309892</td>\n",
       "      <td>1</td>\n",
       "      <td>0</td>\n",
       "    </tr>\n",
       "    <tr>\n",
       "      <th>11</th>\n",
       "      <td>5008804</td>\n",
       "      <td>33</td>\n",
       "      <td>12.0</td>\n",
       "      <td>11.0</td>\n",
       "      <td>127.091003</td>\n",
       "      <td>1</td>\n",
       "      <td>0</td>\n",
       "    </tr>\n",
       "    <tr>\n",
       "      <th>12</th>\n",
       "      <td>5008804</td>\n",
       "      <td>33</td>\n",
       "      <td>12.0</td>\n",
       "      <td>12.0</td>\n",
       "      <td>133.610517</td>\n",
       "      <td>1</td>\n",
       "      <td>0</td>\n",
       "    </tr>\n",
       "    <tr>\n",
       "      <th>13</th>\n",
       "      <td>5008804</td>\n",
       "      <td>33</td>\n",
       "      <td>12.0</td>\n",
       "      <td>13.0</td>\n",
       "      <td>131.995175</td>\n",
       "      <td>1</td>\n",
       "      <td>1</td>\n",
       "    </tr>\n",
       "    <tr>\n",
       "      <th>14</th>\n",
       "      <td>5008804</td>\n",
       "      <td>33</td>\n",
       "      <td>12.0</td>\n",
       "      <td>14.0</td>\n",
       "      <td>130.149923</td>\n",
       "      <td>1</td>\n",
       "      <td>0</td>\n",
       "    </tr>\n",
       "    <tr>\n",
       "      <th>15</th>\n",
       "      <td>5008804</td>\n",
       "      <td>33</td>\n",
       "      <td>12.0</td>\n",
       "      <td>15.0</td>\n",
       "      <td>128.906371</td>\n",
       "      <td>1</td>\n",
       "      <td>0</td>\n",
       "    </tr>\n",
       "  </tbody>\n",
       "</table>\n",
       "</div>"
      ],
      "text/plain": [
       "         id  age  years_on_the_job  nb_previous_loans  \\\n",
       "0   5008804   33              12.0                0.0   \n",
       "1   5008804   33              12.0                1.0   \n",
       "2   5008804   33              12.0                2.0   \n",
       "3   5008804   33              12.0                3.0   \n",
       "4   5008804   33              12.0                4.0   \n",
       "5   5008804   33              12.0                5.0   \n",
       "6   5008804   33              12.0                6.0   \n",
       "7   5008804   33              12.0                7.0   \n",
       "8   5008804   33              12.0                8.0   \n",
       "9   5008804   33              12.0                9.0   \n",
       "10  5008804   33              12.0               10.0   \n",
       "11  5008804   33              12.0               11.0   \n",
       "12  5008804   33              12.0               12.0   \n",
       "13  5008804   33              12.0               13.0   \n",
       "14  5008804   33              12.0               14.0   \n",
       "15  5008804   33              12.0               15.0   \n",
       "\n",
       "    avg_amount_loans_previous  flag_own_car  status  \n",
       "0                         NaN             1       0  \n",
       "1                  102.283361             1       0  \n",
       "2                  119.442705             1       0  \n",
       "3                  117.873035             1       0  \n",
       "4                  114.289538             1       0  \n",
       "5                  114.021260             1       0  \n",
       "6                  116.291398             1       0  \n",
       "7                  114.677626             1       0  \n",
       "8                  122.594931             1       0  \n",
       "9                  127.885915             1       0  \n",
       "10                 126.309892             1       0  \n",
       "11                 127.091003             1       0  \n",
       "12                 133.610517             1       0  \n",
       "13                 131.995175             1       1  \n",
       "14                 130.149923             1       0  \n",
       "15                 128.906371             1       0  "
      ]
     },
     "execution_count": 28,
     "metadata": {},
     "output_type": "execute_result"
    }
   ],
   "source": [
    "df[df[\"id\"]==5008804]"
   ]
  }
 ],
 "metadata": {
  "colab": {
   "name": "MLE_challenge - Features engineering - Notebook 1.ipynb",
   "provenance": []
  },
  "kernelspec": {
   "display_name": "Airflow",
   "language": "python",
   "name": "airflow"
  },
  "language_info": {
   "codemirror_mode": {
    "name": "ipython",
    "version": 3
   },
   "file_extension": ".py",
   "mimetype": "text/x-python",
   "name": "python",
   "nbconvert_exporter": "python",
   "pygments_lexer": "ipython3",
   "version": "3.7.10"
  }
 },
 "nbformat": 4,
 "nbformat_minor": 5
}
